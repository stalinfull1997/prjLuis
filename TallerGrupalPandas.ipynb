{
 "cells": [
  {
   "cell_type": "markdown",
   "metadata": {},
   "source": [
    "# Taller Nro. 2\n",
    "\n",
    "Nombres y Apellidos:\n",
    "\n",
    "Fecha: \n"
   ]
  },
  {
   "cell_type": "markdown",
   "metadata": {
    "tags": []
   },
   "source": [
    "#### 1 Cree un DataFrame df a partir de los datos de este diccionario que tengan las etiquetas de índice.\n",
    "#### 2 Muestre un resumen de la información básica sobre este DataFrame y sus datos.\n",
    "#### 3 Devuelve las primeras 3 filas del DataFrame df.\n",
    "#### 4. Seleccione solo las columnas 'animal' y 'edad' del DataFrame df.\n",
    "#### 5. Seleccione los datos en las filas [3, 4, 8] y en las columnas ['animal', 'edad'].\n",
    "#### 6. Seleccione solo las filas donde el número de visitas es mayor que 2.\n",
    "#### 7. Seleccione las filas donde el animal es un gato y la edad es menor de 3 años.\n",
    "#### 8. Seleccione las filas donde la edad está entre 2 y 4 (inclusive).\n",
    "#### 9. Calcule la suma de todas las visitas (el número total de visitas).\n"
   ]
  },
  {
   "cell_type": "code",
   "execution_count": null,
   "metadata": {},
   "outputs": [],
   "source": []
  },
  {
   "cell_type": "code",
   "execution_count": null,
   "metadata": {},
   "outputs": [],
   "source": [
    "data = {'animal': ['cat', 'cat', 'snake', 'dog', 'dog', 'cat', 'snake', 'cat', 'dog', 'dog'],\n",
    "        'edad': [2.5, 3, 0.5, np.nan, 5, 2, 4.5, np.nan, 7, 3],\n",
    "        'visitas': [1, 3, 2, 3, 2, 3, 1, 1, 2, 1],\n",
    "        'prioridad': ['yes', 'yes', 'no', 'yes', 'no', 'no', 'no', 'yes', 'no', 'no']}\n",
    "labels = ['a', 'b', 'c', 'd', 'e', 'f', 'g', 'h', 'i', 'j']"
   ]
  },
  {
   "cell_type": "code",
   "execution_count": 1,
   "metadata": {},
   "outputs": [],
   "source": [
    "# instrucción para instalar pandas de forma local\n",
    "import pandas as pd\n",
    "import numpy as np"
   ]
  },
  {
   "cell_type": "code",
   "execution_count": 4,
   "metadata": {},
   "outputs": [
    {
     "name": "stdout",
     "output_type": "stream",
     "text": [
      "Resumen de información básica:\n",
      "<class 'pandas.core.frame.DataFrame'>\n",
      "Index: 10 entries, a to j\n",
      "Data columns (total 4 columns):\n",
      " #   Column     Non-Null Count  Dtype  \n",
      "---  ------     --------------  -----  \n",
      " 0   animal     10 non-null     object \n",
      " 1   edad       8 non-null      float64\n",
      " 2   visitas    10 non-null     int64  \n",
      " 3   prioridad  10 non-null     object \n",
      "dtypes: float64(1), int64(1), object(2)\n",
      "memory usage: 400.0+ bytes\n",
      "None\n",
      "\n",
      "Primeras 3 filas del DataFrame:\n",
      "  animal  edad  visitas prioridad\n",
      "a    cat   2.5        1       yes\n",
      "b    cat   3.0        3       yes\n",
      "c  snake   0.5        2        no\n",
      "\n",
      "Selección de columnas 'animal' y 'edad':\n",
      "  animal  edad\n",
      "a    cat   2.5\n",
      "b    cat   3.0\n",
      "c  snake   0.5\n",
      "d    dog   NaN\n",
      "e    dog   5.0\n",
      "f    cat   2.0\n",
      "g  snake   4.5\n",
      "h    cat   NaN\n",
      "i    dog   7.0\n",
      "j    dog   3.0\n",
      "\n",
      "Selección de datos en filas [3, 4, 8] y columnas ['animal', 'edad']:\n",
      "  animal  edad\n",
      "d    dog   NaN\n",
      "e    dog   5.0\n",
      "i    dog   7.0\n",
      "\n",
      "Filas donde el número de visitas es mayor que 2:\n",
      "  animal  edad  visitas prioridad\n",
      "b    cat   3.0        3       yes\n",
      "d    dog   NaN        3       yes\n",
      "f    cat   2.0        3        no\n",
      "\n",
      "Filas donde el animal es un gato y la edad es menor de 3 años:\n",
      "  animal  edad  visitas prioridad\n",
      "a    cat   2.5        1       yes\n",
      "f    cat   2.0        3        no\n",
      "\n",
      "Filas donde la edad está entre 2 y 4 (inclusive):\n",
      "  animal  edad  visitas prioridad\n",
      "a    cat   2.5        1       yes\n",
      "b    cat   3.0        3       yes\n",
      "f    cat   2.0        3        no\n",
      "j    dog   3.0        1        no\n",
      "\n",
      "Suma total de visitas: 19\n"
     ]
    }
   ],
   "source": [
    "\n",
    "\n",
    "# Datos \n",
    "data = {'animal': ['cat', 'cat', 'snake', 'dog', 'dog', 'cat', 'snake', 'cat', 'dog', 'dog'],\n",
    "        'edad': [2.5, 3, 0.5, np.nan, 5, 2, 4.5, np.nan, 7, 3],\n",
    "        'visitas': [1, 3, 2, 3, 2, 3, 1, 1, 2, 1],\n",
    "        'prioridad': ['yes', 'yes', 'no', 'yes', 'no', 'no', 'no', 'yes', 'no', 'no']}\n",
    "labels = ['a', 'b', 'c', 'd', 'e', 'f', 'g', 'h', 'i', 'j']\n",
    "\n",
    "# 1. Crear DataFrame con etiquetas de índice\n",
    "df = pd.DataFrame(data, index=labels)\n",
    "\n",
    "# 2. Resumen de la información básica sobre el DataFrame\n",
    "print(\"Resumen de información básica:\")\n",
    "print(df.info())\n",
    "\n",
    "# Display DataFrame in parts using print\n",
    "print(\"\\nPrimeras 3 filas del DataFrame:\")\n",
    "print(df.head(3))\n",
    "\n",
    "print(\"\\nSelección de columnas 'animal' y 'edad':\")\n",
    "print(df[['animal', 'edad']])\n",
    "\n",
    "print(\"\\nSelección de datos en filas [3, 4, 8] y columnas ['animal', 'edad']:\")\n",
    "print(df.loc[['d', 'e', 'i'], ['animal', 'edad']])\n",
    "\n",
    "print(\"\\nFilas donde el número de visitas es mayor que 2:\")\n",
    "print(df[df['visitas'] > 2])\n",
    "\n",
    "print(\"\\nFilas donde el animal es un gato y la edad es menor de 3 años:\")\n",
    "print(df[(df['animal'] == 'cat') & (df['edad'] < 3)])\n",
    "\n",
    "print(\"\\nFilas donde la edad está entre 2 y 4 (inclusive):\")\n",
    "print(df[df['edad'].between(2, 4)])\n",
    "\n",
    "# 9. Suma de todas las visitas\n",
    "print(\"\\nSuma total de visitas:\", df['visitas'].sum())"
   ]
  }
 ],
 "metadata": {
  "kernelspec": {
   "display_name": "Python 3 (ipykernel)",
   "language": "python",
   "name": "python3"
  },
  "language_info": {
   "codemirror_mode": {
    "name": "ipython",
    "version": 3
   },
   "file_extension": ".py",
   "mimetype": "text/x-python",
   "name": "python",
   "nbconvert_exporter": "python",
   "pygments_lexer": "ipython3",
   "version": "3.11.3"
  }
 },
 "nbformat": 4,
 "nbformat_minor": 4
}
