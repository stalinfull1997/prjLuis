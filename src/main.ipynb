{
 "cells": [
  {
   "attachments": {},
   "cell_type": "markdown",
   "metadata": {},
   "source": [
    "# DOCIFICACION DE MATERIALES\n",
    "> LUIS STALIN PACCHA ANGAMARCA\n",
    "  1150577300\n",
    "\n",
    "> Este problema de programación es útil para la ingeniería civil para el cálculo de la cantidad de concreto necesaria para construir una estructura. Para este ejemplo, consideraremos una losa de concreto.\n",
    "El programa solicitará al usuario el largo y ancho de la losa en metros y el espesor de la losa en centímetros. A continuación, calculará la cantidad de concreto necesaria en metros cúbicos y se imprimirá el resultado. Además, el programa contará la cantidad de bolsas de cemento y la cantidad de metros cúbicos de arena y grava necesarios, tomando en cuenta varios datos de docifiacion de materiales.\n",
    "El problema presentado, se utiliza el lenguaje de programación Python para calcular la cantidad de concreto necesaria para una losa de concreto. Se emplea el uso de funciones y módulos para estructurar el código y facilitar su reutilización.\n",
    "\n",
    "# OBJETIVOS\n",
    "\n",
    "\n",
    "...\n"
   ]
  },
  {
   "attachments": {},
   "cell_type": "markdown",
   "metadata": {},
   "source": [
    "## Instalación de librerías"
   ]
  },
  {
   "cell_type": "code",
   "execution_count": 14,
   "metadata": {},
   "outputs": [
    {
     "name": "stdout",
     "output_type": "stream",
     "text": [
      "Requirement already satisfied: numpy in c:\\users\\dell\\appdata\\local\\programs\\python\\python311\\lib\\site-packages (1.25.1)\n"
     ]
    },
    {
     "name": "stderr",
     "output_type": "stream",
     "text": [
      "\n",
      "[notice] A new release of pip available: 22.3.1 -> 23.2.1\n",
      "[notice] To update, run: python.exe -m pip install --upgrade pip\n"
     ]
    },
    {
     "name": "stdout",
     "output_type": "stream",
     "text": [
      "Requirement already satisfied: pandas in c:\\users\\dell\\appdata\\local\\programs\\python\\python311\\lib\\site-packages (2.0.3)\n",
      "Requirement already satisfied: python-dateutil>=2.8.2 in c:\\users\\dell\\appdata\\roaming\\python\\python311\\site-packages (from pandas) (2.8.2)\n",
      "Requirement already satisfied: pytz>=2020.1 in c:\\users\\dell\\appdata\\local\\programs\\python\\python311\\lib\\site-packages (from pandas) (2023.3)\n",
      "Requirement already satisfied: tzdata>=2022.1 in c:\\users\\dell\\appdata\\local\\programs\\python\\python311\\lib\\site-packages (from pandas) (2023.3)\n",
      "Requirement already satisfied: numpy>=1.21.0 in c:\\users\\dell\\appdata\\local\\programs\\python\\python311\\lib\\site-packages (from pandas) (1.25.1)\n",
      "Requirement already satisfied: six>=1.5 in c:\\users\\dell\\appdata\\roaming\\python\\python311\\site-packages (from python-dateutil>=2.8.2->pandas) (1.16.0)\n"
     ]
    },
    {
     "name": "stderr",
     "output_type": "stream",
     "text": [
      "\n",
      "[notice] A new release of pip available: 22.3.1 -> 23.2.1\n",
      "[notice] To update, run: python.exe -m pip install --upgrade pip\n"
     ]
    },
    {
     "name": "stdout",
     "output_type": "stream",
     "text": [
      "Requirement already satisfied: prettytable in c:\\users\\dell\\appdata\\local\\programs\\python\\python311\\lib\\site-packages (3.8.0)\n",
      "Requirement already satisfied: wcwidth in c:\\users\\dell\\appdata\\roaming\\python\\python311\\site-packages (from prettytable) (0.2.6)\n"
     ]
    },
    {
     "name": "stderr",
     "output_type": "stream",
     "text": [
      "\n",
      "[notice] A new release of pip available: 22.3.1 -> 23.2.1\n",
      "[notice] To update, run: python.exe -m pip install --upgrade pip\n"
     ]
    },
    {
     "name": "stdout",
     "output_type": "stream",
     "text": [
      "Requirement already satisfied: matplotlib in c:\\users\\dell\\appdata\\local\\programs\\python\\python311\\lib\\site-packages (3.7.2)"
     ]
    },
    {
     "name": "stderr",
     "output_type": "stream",
     "text": [
      "\n",
      "[notice] A new release of pip available: 22.3.1 -> 23.2.1\n",
      "[notice] To update, run: python.exe -m pip install --upgrade pip\n"
     ]
    },
    {
     "name": "stdout",
     "output_type": "stream",
     "text": [
      "\n",
      "Requirement already satisfied: contourpy>=1.0.1 in c:\\users\\dell\\appdata\\local\\programs\\python\\python311\\lib\\site-packages (from matplotlib) (1.1.0)\n",
      "Requirement already satisfied: cycler>=0.10 in c:\\users\\dell\\appdata\\local\\programs\\python\\python311\\lib\\site-packages (from matplotlib) (0.11.0)\n",
      "Requirement already satisfied: fonttools>=4.22.0 in c:\\users\\dell\\appdata\\local\\programs\\python\\python311\\lib\\site-packages (from matplotlib) (4.41.1)\n",
      "Requirement already satisfied: kiwisolver>=1.0.1 in c:\\users\\dell\\appdata\\local\\programs\\python\\python311\\lib\\site-packages (from matplotlib) (1.4.4)\n",
      "Requirement already satisfied: numpy>=1.20 in c:\\users\\dell\\appdata\\local\\programs\\python\\python311\\lib\\site-packages (from matplotlib) (1.25.1)\n",
      "Requirement already satisfied: packaging>=20.0 in c:\\users\\dell\\appdata\\roaming\\python\\python311\\site-packages (from matplotlib) (23.1)\n",
      "Requirement already satisfied: pillow>=6.2.0 in c:\\users\\dell\\appdata\\local\\programs\\python\\python311\\lib\\site-packages (from matplotlib) (10.0.0)\n",
      "Requirement already satisfied: pyparsing<3.1,>=2.3.1 in c:\\users\\dell\\appdata\\local\\programs\\python\\python311\\lib\\site-packages (from matplotlib) (3.0.9)\n",
      "Requirement already satisfied: python-dateutil>=2.7 in c:\\users\\dell\\appdata\\roaming\\python\\python311\\site-packages (from matplotlib) (2.8.2)\n",
      "Requirement already satisfied: six>=1.5 in c:\\users\\dell\\appdata\\roaming\\python\\python311\\site-packages (from python-dateutil>=2.7->matplotlib) (1.16.0)\n"
     ]
    }
   ],
   "source": [
    "!pip install numpy\n",
    "!pip install pandas\n",
    "!pip install prettytable\n",
    "!pip install matplotlib"
   ]
  },
  {
   "attachments": {},
   "cell_type": "markdown",
   "metadata": {},
   "source": [
    "## Procesamiento de datos\n"
   ]
  },
  {
   "cell_type": "code",
   "execution_count": 2,
   "metadata": {},
   "outputs": [
    {
     "name": "stdout",
     "output_type": "stream",
     "text": [
      "Tabla de dosificación de materiales: \n",
      "+---------------------------------------+--------------------+\n",
      "|                Variable               |       Valor        |\n",
      "+---------------------------------------+--------------------+\n",
      "|          Largo de la Losa (m)         |        3.0         |\n",
      "|          Ancho de la Losa (m)         |        4.0         |\n",
      "|        Espesor de la Losa (cm)        |        5.0         |\n",
      "|        Volumen de la losa (m^3)       | 0.6000000000000001 |\n",
      "| Cantidad de cemento necesaria (sacos) | 4.200000000000001  |\n",
      "|   Cantidad de arena necesaria (m^3)   |        0.27        |\n",
      "|   Cantidad de grava necesaria (m^3)   |       0.405        |\n",
      "+---------------------------------------+--------------------+\n"
     ]
    },
    {
     "data": {
      "image/png": "[encoded data removed]",
      "text/plain": [
       "<Figure size 640x480 with 1 Axes>"
      ]
     },
     "metadata": {},
     "output_type": "display_data"
    }
   ],
   "source": [
    "# Funciones de módulos nativos de python y de librerías\n",
    "import prettytable\n",
    "import numpy as np\n",
    "import matplotlib.pyplot as plt \n",
    "\n",
    "# Funciones de módulos propios\n",
    "from liberias.materiales import calcular_losa\n",
    "\n",
    "# def calcular_materiales(largo, ancho, espesor):\n",
    "#     tabla = prettytable.PrettyTable()\n",
    "#     tabla.field_names = [\"Variable\", \"Valor\"]\n",
    "\n",
    "#     espesor_metros = espesor / 100\n",
    "#     volumen = largo * ancho * espesor_metros\n",
    "#     cemento = volumen * 7\n",
    "\n",
    "#     cantidad_arena = 0\n",
    "#     cantidad_grava = 0\n",
    "#     parihuela_metros = 0.027\n",
    "\n",
    "#     saco_de_cemento = 0\n",
    "#     while saco_de_cemento < cemento:\n",
    "#         cantidad_arena += 2 * parihuela_metros\n",
    "#         cantidad_grava += 3 * parihuela_metros\n",
    "#         saco_de_cemento += 1\n",
    "\n",
    "#     tabla.add_row([\"Largo de la Losa (m)\", largo])\n",
    "#     tabla.add_row([\"Ancho de la Losa (m)\", ancho])\n",
    "#     tabla.add_row([\"Espesor de la Losa (cm)\", espesor])\n",
    "#     tabla.add_row([\"Volumen de la losa (m^3)\", volumen])\n",
    "#     tabla.add_row([\"Cantidad de cemento necesaria (sacos)\", cemento])\n",
    "#     tabla.add_row([\"Cantidad de arena necesaria (m^3)\", cantidad_arena])\n",
    "#     tabla.add_row([\"Cantidad de grava necesaria (m^3)\", cantidad_grava])\n",
    "\n",
    "#     print (\"Tabla de dosificación de materiales: \")\n",
    "#     return tabla, volumen, cemento, cantidad_arena, cantidad_grava\n",
    "\n",
    "\n",
    "def graficar_distribucion_materiales(volumen, cemento, arena, grava):\n",
    "    materiales = ['Cemento', 'Arena', 'Grava']\n",
    "    cantidades = [cemento, arena, grava]\n",
    "\n",
    "    plt.bar(materiales, cantidades)\n",
    "    plt.xlabel('Materiales')\n",
    "    plt.ylabel('Cantidad (m^3)')\n",
    "    plt.title('Distribución de materiales en la losa')\n",
    "    plt.show()\n",
    "\n",
    "\n",
    "def main():\n",
    "    largo = float(input(\"Ingrese el largo de la losa en metros: \"))\n",
    "    ancho = float(input(\"Ingrese el ancho de la losa en metros: \"))\n",
    "    espesor = float(input(\"Ingrese el espesor de la losa en centímetros: \"))\n",
    "\n",
    "    # tabla, volumen, cemento, arena, grava = calcular_materiales(largo, ancho, espesor)\n",
    "    tabla, volumen, cemento, arena, grava = calcular_losa(largo, ancho, espesor)\n",
    "    #print(matematicas.restar(3,6))\n",
    "    print(tabla)\n",
    "    graficar_distribucion_materiales(volumen, cemento, arena, grava)\n",
    "\n",
    "if __name__ == '__main__':\n",
    "    main()"
   ]
  },
  {
   "attachments": {},
   "cell_type": "markdown",
   "metadata": {},
   "source": []
  },
  {
   "cell_type": "code",
   "execution_count": null,
   "metadata": {},
   "outputs": [],
   "source": []
  }
 ],
 "metadata": {
  "kernelspec": {
   "display_name": "Python 3",
   "language": "python",
   "name": "python3"
  },
  "language_info": {
   "codemirror_mode": {
    "name": "ipython",
    "version": 3
   },
   "file_extension": ".py",
   "mimetype": "text/x-python",
   "name": "python",
   "nbconvert_exporter": "python",
   "pygments_lexer": "ipython3",
   "version": "3.11.3"
  },
  "orig_nbformat": 4
 },
 "nbformat": 4,
 "nbformat_minor": 2
}
