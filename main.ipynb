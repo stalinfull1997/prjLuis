{
 "cells": [
  {
   "attachments": {},
   "cell_type": "markdown",
   "metadata": {},
   "source": [
    "# DOCIFICACION DE MATERIALES\n",
    "> LUIS STALIN PACCHA ANGAMARCA\n",
    "  1150577300\n",
    "\n",
    "> Este problema de programación es útil para la ingeniería civil para el cálculo de la cantidad de concreto necesaria para construir una estructura. Para este ejemplo, consideraremos una losa de concreto.\n",
    "El programa solicitará al usuario el largo y ancho de la losa en metros y el espesor de la losa en centímetros. A continuación, calculará la cantidad de concreto necesaria en metros cúbicos y se imprimirá el resultado. Además, el programa contará la cantidad de bolsas de cemento y la cantidad de metros cúbicos de arena y grava necesarios, tomando en cuenta varios datos de docifiacion de materiales.\n",
    "El problema presentado, se utiliza el lenguaje de programación Python para calcular la cantidad de concreto necesaria para una losa de concreto. Se emplea el uso de funciones y módulos para estructurar el código y facilitar su reutilización.\n",
    "\n",
    "# OBJETIVOS\n",
    "\n",
    "\n",
    "...\n"
   ]
  },
  {
   "attachments": {},
   "cell_type": "markdown",
   "metadata": {},
   "source": [
    "## Instalación de librerías"
   ]
  },
  {
   "cell_type": "code",
   "execution_count": null,
   "metadata": {},
   "outputs": [],
   "source": [
    "!pip install numpy\n",
    "!pip install pandas\n",
    "!pip install prettytable\n",
    "!pip install matplotlib"
   ]
  },
  {
   "attachments": {},
   "cell_type": "markdown",
   "metadata": {},
   "source": [
    "## Procesamiento de datos\n"
   ]
  },
  {
   "cell_type": "code",
   "execution_count": 10,
   "metadata": {},
   "outputs": [],
   "source": [
    "# Funciones de módulos nativos de python y de librerías\n",
    "import prettytable\n",
    "import numpy as np\n",
    "import matplotlib.pyplot as plt \n"
   ]
  },
  {
   "cell_type": "code",
   "execution_count": 11,
   "metadata": {},
   "outputs": [
    {
     "name": "stdout",
     "output_type": "stream",
     "text": [
      "patmic\n",
      "+---------------------------------------+-------+\n",
      "|                Variable               | Valor |\n",
      "+---------------------------------------+-------+\n",
      "|          Largo de la Losa (m)         |  1.0  |\n",
      "|          Ancho de la Losa (m)         |  1.0  |\n",
      "|        Espesor de la Losa (cm)        |  1.0  |\n",
      "|        Volumen de la losa (m^3)       |  0.01 |\n",
      "| Cantidad de cemento necesaria (sacos) |  0.07 |\n",
      "|   Cantidad de arena necesaria (m^3)   | 0.054 |\n",
      "|   Cantidad de grava necesaria (m^3)   | 0.081 |\n",
      "+---------------------------------------+-------+\n"
     ]
    },
    {
     "data": {
      "image/png": "[encoded data removed]",
      "text/plain": [
       "<Figure size 640x480 with 1 Axes>"
      ]
     },
     "metadata": {},
     "output_type": "display_data"
    }
   ],
   "source": [
    "# bugs 2\n",
    "def calcular_materiales(largo, ancho, espesor):\n",
    "    tabla = prettytable.PrettyTable()\n",
    "    tabla.field_names = [\"Variable\", \"Valor\"]\n",
    "\n",
    "    espesor_metros = espesor / 100\n",
    "    volumen = largo * ancho * espesor_metros\n",
    "    cemento = volumen * 7\n",
    "\n",
    "    cantidad_arena = 0\n",
    "    cantidad_grava = 0\n",
    "    parihuela_metros = 0.027\n",
    "\n",
    "    saco_de_cemento = 0\n",
    "    while saco_de_cemento < cemento:\n",
    "        cantidad_arena += 2 * parihuela_metros\n",
    "        cantidad_grava += 3 * parihuela_metros\n",
    "        saco_de_cemento += 1\n",
    "\n",
    "    tabla.add_row([\"Largo de la Losa (m)\", largo])\n",
    "    tabla.add_row([\"Ancho de la Losa (m)\", ancho])\n",
    "    tabla.add_row([\"Espesor de la Losa (cm)\", espesor])\n",
    "    tabla.add_row([\"Volumen de la losa (m^3)\", volumen])\n",
    "    tabla.add_row([\"Cantidad de cemento necesaria (sacos)\", cemento])\n",
    "    tabla.add_row([\"Cantidad de arena necesaria (m^3)\", cantidad_arena])\n",
    "    tabla.add_row([\"Cantidad de grava necesaria (m^3)\", cantidad_grava])\n",
    "\n",
    "    print (\"Tabla de dosificacion de materiales: \")\n",
    "\n",
    "    return tabla, volumen, cemento, cantidad_arena, cantidad_grava\n",
    "\n",
    "def graficar_distribucion_materiales(volumen, cemento, arena, grava):\n",
    "    materiales = ['Cemento', 'Arena', 'Grava']\n",
    "    cantidades = [cemento, arena, grava]\n",
    "\n",
    "    plt.bar(materiales, cantidades)\n",
    "    plt.xlabel('Materiales')\n",
    "    plt.ylabel('Cantidad (m^3)')\n",
    "    plt.title('Distribución de materiales en la losa')\n",
    "    plt.show()\n",
    "\n",
    "def main():\n",
    "    largo = float(input(\"Ingrese el largo de la losa en metros: \"))\n",
    "    ancho = float(input(\"Ingrese el ancho de la losa en metros: \"))\n",
    "    espesor = float(input(\"Ingrese el espesor de la losa en centímetros: \"))\n",
    "\n",
    "    tabla, volumen, cemento, arena, grava = calcular_materiales(largo, ancho, espesor)\n",
    "    print(tabla)\n",
    "\n",
    "    graficar_distribucion_materiales(volumen, cemento, arena, grava)\n",
    "\n",
    "if __name__ == '__main__':\n",
    "    main()"
   ]
  },
  {
   "attachments": {},
   "cell_type": "markdown",
   "metadata": {},
   "source": [
    "## Visualización de información"
   ]
  },
  {
   "cell_type": "code",
   "execution_count": null,
   "metadata": {},
   "outputs": [],
   "source": []
  },
  {
   "cell_type": "markdown",
   "metadata": {},
   "source": [
    "Elimar: Código de referencia"
   ]
  },
  {
   "cell_type": "code",
   "execution_count": null,
   "metadata": {},
   "outputs": [],
   "source": [
    "# \n",
    "import matplotlib.pyplot as plt\n",
    "\n",
    "# instrucciones para visualizar información\n",
    "\n",
    "plt.plot(tiempo, densidad)\n",
    "plt.xlabel('Tiempo (t)')\n",
    "plt.ylabel('Densidad (d)')\n",
    "plt.title('Gráfica lineal')\n",
    "plt.grid(True)\n"
   ]
  },
  {
   "cell_type": "code",
   "execution_count": null,
   "metadata": {},
   "outputs": [],
   "source": [
    "\n",
    "plt.subplot(2, 2, 1)\n",
    "plt.plot(tiempo, densidad)\n",
    "plt.xlabel('Tiempo (t)')\n",
    "plt.ylabel('Densidad (d)')\n",
    "plt.title('Gráfica lineal')\n",
    "plt.grid(True)\n",
    "\n",
    "# Gráfica x semilog\n",
    "plt.subplot(2, 2, 2)\n",
    "plt.semilogx(tiempo, densidad)\n",
    "plt.xlabel('Tiempo (t)')\n",
    "plt.ylabel('Densidad (d)')\n",
    "plt.title('Gráfica x semilog')\n",
    "plt.grid(True)\n",
    "\n",
    "# Gráfica y semilog\n",
    "plt.subplot(2, 2, 3)\n",
    "plt.semilogy(tiempo, densidad)\n",
    "plt.xlabel('Tiempo (t)')\n",
    "plt.ylabel('Densidad (d)')\n",
    "plt.title('Gráfica y semilog')\n",
    "plt.grid(True)\n",
    "\n",
    "# Gráfica log-log\n",
    "plt.subplot(2, 2, 4)\n",
    "plt.loglog(tiempo, densidad)\n",
    "plt.xlabel('Tiempo (t)')\n",
    "plt.ylabel('Densidad (d)')\n",
    "plt.title('Gráfica log-log')\n",
    "plt.grid(True)\n",
    "\n",
    "# Mostrar todas las gráficas\n",
    "plt.tight_layout()\n",
    "plt.show()"
   ]
  }
 ],
 "metadata": {
  "kernelspec": {
   "display_name": "Python 3",
   "language": "python",
   "name": "python3"
  },
  "language_info": {
   "codemirror_mode": {
    "name": "ipython",
    "version": 3
   },
   "file_extension": ".py",
   "mimetype": "text/x-python",
   "name": "python",
   "nbconvert_exporter": "python",
   "pygments_lexer": "ipython3",
   "version": "3.11.3"
  },
  "orig_nbformat": 4
 },
 "nbformat": 4,
 "nbformat_minor": 2
}
